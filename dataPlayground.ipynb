{
 "cells": [
  {
   "cell_type": "markdown",
   "id": "167df879-0da6-4e36-9197-ea53efedc74a",
   "metadata": {},
   "source": [
    "## ToDo\n",
    "-Migrate vbtExamples here\n",
    "\n",
    "-Create backtesting workflow"
   ]
  },
  {
   "cell_type": "markdown",
   "id": "20350703-aadc-429c-8b12-7feec11e7d04",
   "metadata": {},
   "source": [
    "Imports"
   ]
  },
  {
   "cell_type": "code",
   "execution_count": 1,
   "id": "74b12479-e10f-4076-8b30-9bc44a189f10",
   "metadata": {
    "tags": []
   },
   "outputs": [],
   "source": [
    "import numpy as np\n",
    "import pandas as pd\n",
    "from datetime import datetime as dt\n",
    "import vectorbt as vbt\n",
    "import yfinance as yf\n",
    "import pandas_ta as ta"
   ]
  },
  {
   "cell_type": "markdown",
   "id": "4b8b87fb-7fb5-4c16-9977-bea0b8c78372",
   "metadata": {},
   "source": [
    "Global Vars"
   ]
  },
  {
   "cell_type": "code",
   "execution_count": 2,
   "id": "2dddeb17-86f7-463d-acd2-db138e0f1a6c",
   "metadata": {
    "tags": []
   },
   "outputs": [],
   "source": [
    "start = '2019-01-01'\n",
    "end = '2021-01-01'"
   ]
  },
  {
   "cell_type": "markdown",
   "id": "d80d07d8-fa00-4fe7-bc0a-b76a98b6a425",
   "metadata": {},
   "source": [
    "Using just YFinance\n"
   ]
  },
  {
   "cell_type": "code",
   "execution_count": 3,
   "id": "58736f7e-43d9-4ff9-bb9b-b091e7551bda",
   "metadata": {
    "tags": []
   },
   "outputs": [
    {
     "name": "stdout",
     "output_type": "stream",
     "text": [
      "[*********************100%***********************]  1 of 1 completed\n"
     ]
    }
   ],
   "source": [
    "#Gets Open, High, Low, Close, Adj Close, and Volume\n",
    "btcYFPrice1 = yf.download('BTC-USD', start=start, end=end)\n",
    "#Gets a ticker object\n",
    "btcYFPrice2 = yf.Ticker('BTC-USD')\n"
   ]
  },
  {
   "cell_type": "markdown",
   "id": "7ce48908-0cf2-412e-a854-ec43f500a52f",
   "metadata": {},
   "source": [
    "The ticker object can then be used to get historical data, which is identical to the yf.download() function, but with added dividends and stock splits"
   ]
  },
  {
   "cell_type": "code",
   "execution_count": null,
   "id": "a7fb8512-77ba-4c8b-ba5e-d03b5dfa1415",
   "metadata": {},
   "outputs": [],
   "source": [
    "btcYFPrice2.history(start=start, end=end)"
   ]
  }
 ],
 "metadata": {
  "kernelspec": {
   "display_name": "Python 3 (ipykernel)",
   "language": "python",
   "name": "python3"
  },
  "language_info": {
   "codemirror_mode": {
    "name": "ipython",
    "version": 3
   },
   "file_extension": ".py",
   "mimetype": "text/x-python",
   "name": "python",
   "nbconvert_exporter": "python",
   "pygments_lexer": "ipython3",
   "version": "3.7.16"
  }
 },
 "nbformat": 4,
 "nbformat_minor": 5
}
